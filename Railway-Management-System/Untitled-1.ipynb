{
 "cells": [
  {
   "cell_type": "code",
   "execution_count": 39,
   "metadata": {},
   "outputs": [
    {
     "name": "stdout",
     "output_type": "stream",
     "text": [
      "Group 1: [23, 35, 37, 22, 50]\n",
      "Group 2: [44, 4, 49, 26, 28]\n",
      "Group 3: [8, 43, 21, 32, 36]\n",
      "Group 4: [34, 2, 52, 40, 53]\n",
      "Group 5: [41, 7, 17, 19, 25]\n",
      "Group 6: [47, 10, 42, 5, 3]\n",
      "Group 7: [33, 46, 48, 27, 38]\n",
      "Group 8: [11, 29, 30, 16, 51]\n",
      "Group 9: [31, 14, 12, 9, 1]\n",
      "Group 10: [24, 45, 15, 6, 13, 18]\n"
     ]
    }
   ],
   "source": [
    "import random\n",
    "\n",
    "rolls = [i for i in range(1,54)]\n",
    "\n",
    "random.shuffle(rolls)\n",
    "\n",
    "rolls.remove(20)\n",
    "rolls.remove(39)\n",
    "rolls.remove(13)\n",
    "rolls.remove(18)\n",
    "\n",
    "group_1 = []\n",
    "group_2 = []\n",
    "group_3 = []\n",
    "group_4 = []\n",
    "group_5 = []\n",
    "group_6 = []\n",
    "group_7 = []\n",
    "group_8 = []\n",
    "group_9 = []\n",
    "group_10 = []\n",
    "\n",
    "for i in range(0,5):\n",
    "    group_1.append(rolls[i])\n",
    "for i in range(5,10):\n",
    "    group_2.append(rolls[i])\n",
    "for i in range(10,15):\n",
    "    group_3.append(rolls[i])\n",
    "for i in range(15,20):\n",
    "    group_4.append(rolls[i])\n",
    "for i in range(20,25):\n",
    "    group_5.append(rolls[i])\n",
    "for i in range(25,30):\n",
    "    group_6.append(rolls[i])\n",
    "for i in range(30,35):\n",
    "    group_7.append(rolls[i])\n",
    "for i in range(35,40):\n",
    "    group_8.append(rolls[i])\n",
    "for i in range(40,45):\n",
    "    group_9.append(rolls[i])\n",
    "for i in range(45,49):\n",
    "    group_10.append(rolls[i]) \n",
    "\n",
    "group_10 += [13, 18]    \n",
    "\n",
    "print('Group 1:', group_1)\n",
    "print('Group 2:',group_2)\n",
    "print('Group 3:',group_3)\n",
    "print('Group 4:',group_4)\n",
    "print('Group 5:',group_5)\n",
    "print('Group 6:',group_6)\n",
    "print('Group 7:',group_7)\n",
    "print('Group 8:',group_8)\n",
    "print('Group 9:',group_9)\n",
    "print('Group 10:',group_10)"
   ]
  },
  {
   "cell_type": "code",
   "execution_count": 31,
   "metadata": {},
   "outputs": [
    {
     "name": "stdout",
     "output_type": "stream",
     "text": [
      "None\n"
     ]
    }
   ],
   "source": [
    "a = [1,2,3]\n",
    "a = a.remove(1)\n",
    "print(a)"
   ]
  },
  {
   "cell_type": "code",
   "execution_count": null,
   "metadata": {},
   "outputs": [],
   "source": []
  }
 ],
 "metadata": {
  "kernelspec": {
   "display_name": "base",
   "language": "python",
   "name": "python3"
  },
  "language_info": {
   "codemirror_mode": {
    "name": "ipython",
    "version": 3
   },
   "file_extension": ".py",
   "mimetype": "text/x-python",
   "name": "python",
   "nbconvert_exporter": "python",
   "pygments_lexer": "ipython3",
   "version": "3.8.8"
  }
 },
 "nbformat": 4,
 "nbformat_minor": 2
}
